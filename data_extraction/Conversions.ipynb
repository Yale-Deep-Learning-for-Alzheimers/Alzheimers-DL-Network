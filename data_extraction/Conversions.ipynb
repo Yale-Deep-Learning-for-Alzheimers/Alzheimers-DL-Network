{
 "cells": [
  {
   "cell_type": "code",
   "execution_count": 22,
   "metadata": {},
   "outputs": [],
   "source": [
    "# Imports\n",
    "import pandas as pd\n",
    "import numpy as np\n",
    "import pickle"
   ]
  },
  {
   "cell_type": "code",
   "execution_count": 23,
   "metadata": {},
   "outputs": [],
   "source": [
    "# Read Diagnostic Data\n",
    "data = pd.read_csv('ADNIMERGE.csv')"
   ]
  },
  {
   "cell_type": "code",
   "execution_count": 24,
   "metadata": {},
   "outputs": [],
   "source": [
    "# We only need ID, Exam Data, Baseline, and Current\n",
    "dx_data = data[['PTID', 'EXAMDATE', 'DX_bl', 'DX']]"
   ]
  },
  {
   "cell_type": "code",
   "execution_count": 25,
   "metadata": {},
   "outputs": [],
   "source": [
    "# We only want Diagnoses which have changed\n",
    "m = dx_data.query('DX != DX_bl')"
   ]
  },
  {
   "cell_type": "code",
   "execution_count": 26,
   "metadata": {},
   "outputs": [],
   "source": [
    "# Convert to numpy\n",
    "arr = m.to_numpy()"
   ]
  },
  {
   "cell_type": "code",
   "execution_count": 27,
   "metadata": {},
   "outputs": [],
   "source": [
    "def subject_to_int(val):\n",
    "    return(int(val[0][0:3]) * 1000 + int(val[0][6:10]))"
   ]
  },
  {
   "cell_type": "code",
   "execution_count": 28,
   "metadata": {},
   "outputs": [],
   "source": [
    "arr = sorted(arr, key=subject_to_int)"
   ]
  },
  {
   "cell_type": "code",
   "execution_count": 29,
   "metadata": {},
   "outputs": [],
   "source": [
    "# If we changed from MCI to AD\n",
    "last = ''\n",
    "count = 0\n",
    "arr_s = []\n",
    "for val in arr:\n",
    "    if val[0] == last:\n",
    "        count += 1\n",
    "    else:\n",
    "        count = 0\n",
    "        last = val[0]\n",
    "    if val[2] == 'LMCI' and val[3] == 'Dementia':\n",
    "        # if this is the case, scan backwards to figure out how many images we have before and add that to val\n",
    "        tmp = list(val)\n",
    "        tmp.append(count)\n",
    "        arr_s.append(tmp)"
   ]
  },
  {
   "cell_type": "code",
   "execution_count": 30,
   "metadata": {},
   "outputs": [],
   "source": [
    "# only capture the first instance, so the breakthrough Diagnosis\n",
    "arr_final_AD = []\n",
    "last_names = set()\n",
    "for val in arr_s:\n",
    "    if val[0] not in last_names:\n",
    "        arr_final_AD.append(list(val))\n",
    "        last_names.add(val[0])   "
   ]
  },
  {
   "cell_type": "code",
   "execution_count": 31,
   "metadata": {},
   "outputs": [],
   "source": [
    "# measure how many previous visits each patient has\n",
    "count_arr = np.zeros(100)\n",
    "for val in arr_final_AD:\n",
    "    count_arr[val[4]] += 1\n",
    "    \n",
    "    "
   ]
  },
  {
   "cell_type": "code",
   "execution_count": 32,
   "metadata": {},
   "outputs": [],
   "source": [
    "# no need to include redundant data\n",
    "for i in range(len(arr_final_AD)):\n",
    "    arr_final_AD[i] = [arr_final_AD[i][0], arr_final_AD[i][1], arr_final_AD[i][4]]"
   ]
  },
  {
   "cell_type": "code",
   "execution_count": 33,
   "metadata": {},
   "outputs": [],
   "source": [
    "# Save it as a csv\n",
    "pd.DataFrame(arr_final_AD).to_csv(\"./MCI_to_AD.csv\")"
   ]
  },
  {
   "cell_type": "code",
   "execution_count": 34,
   "metadata": {},
   "outputs": [],
   "source": [
    "# capture all patients who started as MCI and remained as MCI\n",
    "# take all patients who started as MCI, and subtract arr_f from it\n",
    "MCI_arr = dx_data.to_numpy()\n",
    "arr_m = []\n",
    "for val in MCI_arr:\n",
    "    if val[2] == 'LMCI':\n",
    "        arr_m.append(list(val))"
   ]
  },
  {
   "cell_type": "code",
   "execution_count": 35,
   "metadata": {},
   "outputs": [],
   "source": [
    "arr_m = sorted(arr_m, key=subject_to_int)"
   ]
  },
  {
   "cell_type": "code",
   "execution_count": 9,
   "metadata": {},
   "outputs": [],
   "source": [
    "# go through each value\n",
    "# if we get dementia or nan, skip everything on the current ID, and do not append\n",
    "# otherwise, when we change, append\n",
    "\n",
    "# x is whatever nan is in the original array. Super hacky, but whatever\n",
    "x = arr_m[4983][3]\n",
    "\n",
    "arr_final_MCI = []\n",
    "last_names = set()\n",
    "last_val = ''\n",
    "count = 0\n",
    "append = True\n",
    "# go through each entry. When the subject ID changes (or is at an end), if there were no instances of dementia, \n",
    "# append that patient ID and the count\n",
    "for val in arr_m:\n",
    "    if val[0] not in last_names:\n",
    "        if append:\n",
    "            tmp = list(last_val)\n",
    "            tmp.append(count)\n",
    "            arr_final_MCI.append(tmp)\n",
    "        last_names.add(val[0])\n",
    "        count = 0\n",
    "        append = True\n",
    "    if val[3] in ['Dementia']:\n",
    "        append = False\n",
    "    last_val = val\n",
    "    count += 1\n",
    "    "
   ]
  },
  {
   "cell_type": "code",
   "execution_count": 18,
   "metadata": {},
   "outputs": [],
   "source": [
    "arr_final_MCI = arr_final_MCI[1::]"
   ]
  },
  {
   "cell_type": "code",
   "execution_count": 19,
   "metadata": {},
   "outputs": [
    {
     "name": "stdout",
     "output_type": "stream",
     "text": [
      "[ 0. 54. 62. 20. 18. 24. 23. 39. 24. 10.  7. 14.  5.  8.  7.  7.  6.  6.\n",
      "  4.  4.  2.  4.  0.  0.  0.  0.  0.  0.  0.  0.]\n"
     ]
    }
   ],
   "source": [
    "# measure how many previous visits each patient has\n",
    "count_arr = np.zeros(30)\n",
    "for val in arr_final_MCI:\n",
    "    count_arr[val[4]] += 1\n",
    "    \n",
    "print(count_arr)"
   ]
  },
  {
   "cell_type": "code",
   "execution_count": 20,
   "metadata": {},
   "outputs": [],
   "source": [
    "# no need to include redundant data\n",
    "for i in range(len(arr_final_MCI)):\n",
    "    arr_final_MCI[i] = [arr_final_MCI[i][0], arr_final_MCI[i][1], arr_final_MCI[i][4]]"
   ]
  },
  {
   "cell_type": "code",
   "execution_count": 21,
   "metadata": {},
   "outputs": [],
   "source": [
    "pd.DataFrame(arr_final_MCI).to_csv(\"./MCI_to_MCI.csv\")"
   ]
  }
 ],
 "metadata": {
  "kernelspec": {
   "display_name": "Python 3",
   "language": "python",
   "name": "python3"
  },
  "language_info": {
   "codemirror_mode": {
    "name": "ipython",
    "version": 3
   },
   "file_extension": ".py",
   "mimetype": "text/x-python",
   "name": "python",
   "nbconvert_exporter": "python",
   "pygments_lexer": "ipython3",
   "version": "3.7.3"
  }
 },
 "nbformat": 4,
 "nbformat_minor": 2
}
