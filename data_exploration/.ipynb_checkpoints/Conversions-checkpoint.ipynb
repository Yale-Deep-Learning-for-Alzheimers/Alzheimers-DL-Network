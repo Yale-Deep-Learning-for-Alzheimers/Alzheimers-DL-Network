{
 "cells": [
  {
   "cell_type": "code",
   "execution_count": 1,
   "metadata": {},
   "outputs": [],
   "source": [
    "# Imports\n",
    "import pandas as pd\n",
    "import numpy as np\n",
    "import pickle"
   ]
  },
  {
   "cell_type": "code",
   "execution_count": 2,
   "metadata": {},
   "outputs": [
    {
     "name": "stderr",
     "output_type": "stream",
     "text": [
      "/Users/jnachbar/anaconda3/lib/python3.7/site-packages/IPython/core/interactiveshell.py:3049: DtypeWarning: Columns (18,19,20,103,104) have mixed types. Specify dtype option on import or set low_memory=False.\n",
      "  interactivity=interactivity, compiler=compiler, result=result)\n"
     ]
    }
   ],
   "source": [
    "# Read Diagnostic Data\n",
    "data = pd.read_csv('ADNIMERGE.csv')"
   ]
  },
  {
   "cell_type": "code",
   "execution_count": 3,
   "metadata": {},
   "outputs": [],
   "source": [
    "# We only care about ID, Exam Data, Baseline, and Current\n",
    "dx_data = data[['PTID', 'EXAMDATE', 'DX_bl', 'DX']]"
   ]
  },
  {
   "cell_type": "code",
   "execution_count": 4,
   "metadata": {},
   "outputs": [],
   "source": [
    "# We only want Diagnoses which have changed\n",
    "m = dx_data.query('DX != DX_bl')"
   ]
  },
  {
   "cell_type": "code",
   "execution_count": 5,
   "metadata": {},
   "outputs": [],
   "source": [
    "# Convert to numpy so I can actually work with it\n",
    "arr = m.to_numpy()"
   ]
  },
  {
   "cell_type": "code",
   "execution_count": 9,
   "metadata": {},
   "outputs": [],
   "source": [
    "# If we changed from MCI to AD\n",
    "last = ''\n",
    "count = 0\n",
    "arr_s = []\n",
    "for val in arr:\n",
    "    if val[0] == last:\n",
    "        count += 1\n",
    "    else:\n",
    "        count = 0\n",
    "        last = val[0]\n",
    "    if val[2] == 'LMCI' and val[3] == 'Dementia':\n",
    "        # if this is the case, scan backwards to figure out how many images we have before and add that to val\n",
    "        tmp = list(val)\n",
    "        tmp.append(count)\n",
    "        arr_s.append(tmp)"
   ]
  },
  {
   "cell_type": "code",
   "execution_count": 12,
   "metadata": {},
   "outputs": [],
   "source": [
    "# only capture the first instance, so the breakthrough Diagnosis\n",
    "arr_final_AD = []\n",
    "last_names = set()\n",
    "for val in arr_s:\n",
    "    if val[0] not in last_names:\n",
    "        arr_final_AD.append(list(val))\n",
    "        last_names.add(val[0])   "
   ]
  },
  {
   "cell_type": "code",
   "execution_count": 13,
   "metadata": {},
   "outputs": [
    {
     "name": "stdout",
     "output_type": "stream",
     "text": [
      "[105.  44.  68.  34.  27.  13.   5.   2.   3.   0.]\n"
     ]
    }
   ],
   "source": [
    "# measure how many previous visits each patient has\n",
    "count_arr = np.zeros(10)\n",
    "for val in arr_final_AD:\n",
    "    count_arr[val[4]] += 1\n",
    "    \n",
    "print(count_arr)"
   ]
  },
  {
   "cell_type": "code",
   "execution_count": 14,
   "metadata": {},
   "outputs": [],
   "source": [
    "# no need to include redundant data\n",
    "for i in range(len(arr_final_AD)):\n",
    "    arr_final_AD[i] = [arr_final_AD[i][0], arr_final_AD[i][1], arr_final_AD[i][4]]"
   ]
  },
  {
   "cell_type": "code",
   "execution_count": 15,
   "metadata": {},
   "outputs": [],
   "source": [
    "# Save it as a csv\n",
    "pd.DataFrame(arr_final_AD).to_csv(\"./MCI_to_AD.csv\")"
   ]
  },
  {
   "cell_type": "code",
   "execution_count": 16,
   "metadata": {},
   "outputs": [],
   "source": [
    "# capture all patients who started as MCI and remained as MCI\n",
    "# take all patients who started as MCI, and subtract arr_f from it\n",
    "MCI_arr = dx_data.to_numpy()\n",
    "arr_m = []\n",
    "for val in MCI_arr:\n",
    "    if val[2] == 'LMCI':\n",
    "        arr_m.append(list(val))"
   ]
  },
  {
   "cell_type": "code",
   "execution_count": 17,
   "metadata": {},
   "outputs": [],
   "source": [
    "# go through each value\n",
    "# if we get dementia or nan, skip everything on the current ID, and do not append\n",
    "# otherwise, when we change, append\n",
    "\n",
    "# x is whatever nan is in the original array. Super hacky, but whatever\n",
    "x = arr_m[4991][3]\n",
    "\n",
    "arr_final_MCI = []\n",
    "count = 0\n",
    "last_names = set()\n",
    "append = True\n",
    "for val in arr_m:\n",
    "    if val[3] in ['Dementia', x]:\n",
    "        append = False\n",
    "    if val[0] not in last_names:\n",
    "        if append:\n",
    "            tmp = list(val)\n",
    "            tmp.append(count)\n",
    "            arr_final_MCI.append(tmp)\n",
    "        append = True\n",
    "        last_names.add(val[0])\n",
    "        count = 0\n",
    "    count += 1"
   ]
  },
  {
   "cell_type": "code",
   "execution_count": 18,
   "metadata": {},
   "outputs": [
    {
     "name": "stdout",
     "output_type": "stream",
     "text": [
      "[ 1. 96. 40. 35. 33. 35. 23. 12.  5.  0.]\n"
     ]
    }
   ],
   "source": [
    "# measure how many previous visits each patient has\n",
    "count_arr = np.zeros(10)\n",
    "for val in arr_final_MCI:\n",
    "    count_arr[val[4]] += 1\n",
    "    \n",
    "print(count_arr)"
   ]
  },
  {
   "cell_type": "code",
   "execution_count": 19,
   "metadata": {},
   "outputs": [],
   "source": [
    "# no need to include redundant data\n",
    "for i in range(len(arr_final_MCI)):\n",
    "    arr_final_MCI[i] = [arr_final_MCI[i][0], arr_final_MCI[i][1], arr_final_MCI[i][4]]"
   ]
  },
  {
   "cell_type": "code",
   "execution_count": 20,
   "metadata": {},
   "outputs": [],
   "source": [
    "pd.DataFrame(arr_final_MCI).to_csv(\"./MCI_to_MCI.csv\")"
   ]
  }
 ],
 "metadata": {
  "kernelspec": {
   "display_name": "Python 3",
   "language": "python",
   "name": "python3"
  },
  "language_info": {
   "codemirror_mode": {
    "name": "ipython",
    "version": 3
   },
   "file_extension": ".py",
   "mimetype": "text/x-python",
   "name": "python",
   "nbconvert_exporter": "python",
   "pygments_lexer": "ipython3",
   "version": "3.7.3"
  }
 },
 "nbformat": 4,
 "nbformat_minor": 2
}
