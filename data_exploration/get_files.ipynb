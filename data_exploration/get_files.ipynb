{
 "cells": [
  {
   "cell_type": "code",
   "execution_count": 1,
   "metadata": {},
   "outputs": [],
   "source": [
    "import glob\n",
    "import csv\n",
    "import pickle"
   ]
  },
  {
   "cell_type": "code",
   "execution_count": 2,
   "metadata": {},
   "outputs": [],
   "source": [
    "files = [f for f in glob.glob('Data/MCI_to_AD/' + \"**/*.nii\", recursive=True)]\n",
    "split = []\n",
    "for file in files:\n",
    "    split.append(file.split('/'))"
   ]
  },
  {
   "cell_type": "code",
   "execution_count": 3,
   "metadata": {},
   "outputs": [],
   "source": [
    "# Initialize dictionaries\n",
    "image_dict = {}\n",
    "date_dict = {}"
   ]
  },
  {
   "cell_type": "code",
   "execution_count": 4,
   "metadata": {},
   "outputs": [],
   "source": [
    "# This is for MCI_to_AD\n",
    "\n",
    "with open('MCI_to_AD.csv', newline='') as csvfile:\n",
    "    data = list(csv.reader(csvfile))"
   ]
  },
  {
   "cell_type": "code",
   "execution_count": 5,
   "metadata": {},
   "outputs": [],
   "source": [
    "for val in data[1::]:\n",
    "    date_dict[val[1]] = val[2]\n",
    "    image_dict[val[1]] = []"
   ]
  },
  {
   "cell_type": "code",
   "execution_count": 6,
   "metadata": {},
   "outputs": [],
   "source": [
    "for entry in split:\n",
    "    # if the image is earlier than the cutoff for the subject\n",
    "    if date_dict[entry[2]] >= entry[4][0:10]:\n",
    "        s = '/'\n",
    "        # add it to the image dict\n",
    "        image_dict[entry[2]].append(s.join(entry))"
   ]
  },
  {
   "cell_type": "code",
   "execution_count": 7,
   "metadata": {},
   "outputs": [],
   "source": [
    "# for each entry, sort by the date\n",
    "def date_int(s):\n",
    "    sp = s.split('/')\n",
    "    date = sp[4][0:10:]\n",
    "    return(10000 * int(date[0:4]) + 100 * int(date[5:7]) + int(date[8::]))"
   ]
  },
  {
   "cell_type": "code",
   "execution_count": 8,
   "metadata": {},
   "outputs": [],
   "source": [
    "for val in image_dict.keys():\n",
    "    new = sorted(image_dict[val], key=date_int)\n",
    "    image_dict[val] = new"
   ]
  },
  {
   "cell_type": "code",
   "execution_count": null,
   "metadata": {},
   "outputs": [],
   "source": [
    "dictlist = []"
   ]
  },
  {
   "cell_type": "code",
   "execution_count": null,
   "metadata": {},
   "outputs": [],
   "source": [
    "for key, value in image_dict.items():\n",
    "    tmp = value\n",
    "    if tmp != []:\n",
    "        dictlist.append(tmp)"
   ]
  },
  {
   "cell_type": "code",
   "execution_count": 13,
   "metadata": {},
   "outputs": [],
   "source": [
    "f = open(\"AD_Img_List.pkl\",\"wb\")\n",
    "pickle.dump(dictlist,f)\n",
    "f.close()"
   ]
  },
  {
   "cell_type": "code",
   "execution_count": 15,
   "metadata": {},
   "outputs": [],
   "source": [
    "# This is for MCI_to_MCI\n",
    "files = [f for f in glob.glob('Data/MCI_to_MCI/' + \"**/*.nii\", recursive=True)]\n",
    "split = []\n",
    "for file in files:\n",
    "    split.append(file.split('/'))"
   ]
  },
  {
   "cell_type": "code",
   "execution_count": 16,
   "metadata": {},
   "outputs": [],
   "source": [
    "with open('MCI_to_MCI.csv', newline='') as csvfile:\n",
    "    data = list(csv.reader(csvfile))"
   ]
  },
  {
   "cell_type": "code",
   "execution_count": 17,
   "metadata": {},
   "outputs": [],
   "source": [
    "image_dict = {}\n",
    "for val in data[1::]:\n",
    "    date_dict[val[1]] = val[2]\n",
    "    image_dict[val[1]] = []"
   ]
  },
  {
   "cell_type": "code",
   "execution_count": 18,
   "metadata": {},
   "outputs": [],
   "source": [
    "for entry in split:\n",
    "    # if the image is earlier than the cutoff for the subject\n",
    "    s = '/'\n",
    "    # add it to the image dict\n",
    "    image_dict[entry[2]].append(s.join(entry))\n",
    "    "
   ]
  },
  {
   "cell_type": "code",
   "execution_count": 19,
   "metadata": {},
   "outputs": [],
   "source": [
    "count = 0\n",
    "for key in image_dict.keys():\n",
    "    if image_dict[key] != []:\n",
    "        count += 1"
   ]
  },
  {
   "cell_type": "code",
   "execution_count": 23,
   "metadata": {},
   "outputs": [],
   "source": [
    "dictlist = []\n",
    "for key, value in image_dict.items():\n",
    "    tmp = value\n",
    "    if tmp != []:\n",
    "        dictlist.append(tmp)\n",
    "        "
   ]
  },
  {
   "cell_type": "code",
   "execution_count": 24,
   "metadata": {},
   "outputs": [],
   "source": [
    "f = open(\"MCI_Img_Dict.pkl\",\"wb\")\n",
    "pickle.dump(image_dict,f)\n",
    "f.close()"
   ]
  }
 ],
 "metadata": {
  "kernelspec": {
   "display_name": "Python 3",
   "language": "python",
   "name": "python3"
  },
  "language_info": {
   "codemirror_mode": {
    "name": "ipython",
    "version": 3
   },
   "file_extension": ".py",
   "mimetype": "text/x-python",
   "name": "python",
   "nbconvert_exporter": "python",
   "pygments_lexer": "ipython3",
   "version": "3.7.3"
  }
 },
 "nbformat": 4,
 "nbformat_minor": 2
}
